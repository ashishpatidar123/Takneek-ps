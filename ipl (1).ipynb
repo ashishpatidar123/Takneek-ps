{
 "cells": [
  {
   "cell_type": "markdown",
   "id": "ecc04949",
   "metadata": {},
   "source": [
    "Import numpy library"
   ]
  },
  {
   "cell_type": "code",
   "execution_count": 199,
   "id": "fff1229f",
   "metadata": {},
   "outputs": [],
   "source": [
    "import numpy as np"
   ]
  },
  {
   "cell_type": "markdown",
   "id": "e824dfeb",
   "metadata": {},
   "source": [
    "Import Pandas Library"
   ]
  },
  {
   "cell_type": "code",
   "execution_count": 200,
   "id": "a306a800",
   "metadata": {},
   "outputs": [],
   "source": [
    "import pandas as pd"
   ]
  },
  {
   "cell_type": "markdown",
   "id": "ad71aea5",
   "metadata": {},
   "source": [
    "Read the csv file from the location and create a pandas dataframe using the read file to analyse the data"
   ]
  },
  {
   "cell_type": "code",
   "execution_count": 3,
   "id": "6c21b280",
   "metadata": {},
   "outputs": [],
   "source": [
    "ipl_df = pd.read_csv(\"F:\\IPL 2022 Batters.csv\")"
   ]
  },
  {
   "cell_type": "code",
   "execution_count": 4,
   "id": "d899071f",
   "metadata": {},
   "outputs": [
    {
     "data": {
      "text/html": [
       "<div>\n",
       "<style scoped>\n",
       "    .dataframe tbody tr th:only-of-type {\n",
       "        vertical-align: middle;\n",
       "    }\n",
       "\n",
       "    .dataframe tbody tr th {\n",
       "        vertical-align: top;\n",
       "    }\n",
       "\n",
       "    .dataframe thead th {\n",
       "        text-align: right;\n",
       "    }\n",
       "</style>\n",
       "<table border=\"1\" class=\"dataframe\">\n",
       "  <thead>\n",
       "    <tr style=\"text-align: right;\">\n",
       "      <th></th>\n",
       "      <th>Player</th>\n",
       "      <th>Mat</th>\n",
       "      <th>Inns</th>\n",
       "      <th>NO</th>\n",
       "      <th>Runs</th>\n",
       "      <th>HS</th>\n",
       "      <th>Avg</th>\n",
       "      <th>BF</th>\n",
       "      <th>SR</th>\n",
       "      <th>100</th>\n",
       "      <th>50</th>\n",
       "      <th>4s</th>\n",
       "    </tr>\n",
       "  </thead>\n",
       "  <tbody>\n",
       "    <tr>\n",
       "      <th>0</th>\n",
       "      <td>Jos Buttler</td>\n",
       "      <td>17</td>\n",
       "      <td>17</td>\n",
       "      <td>2</td>\n",
       "      <td>863</td>\n",
       "      <td>116</td>\n",
       "      <td>57.53</td>\n",
       "      <td>579</td>\n",
       "      <td>149.05</td>\n",
       "      <td>4</td>\n",
       "      <td>4</td>\n",
       "      <td>83</td>\n",
       "    </tr>\n",
       "    <tr>\n",
       "      <th>1</th>\n",
       "      <td>K L Rahul</td>\n",
       "      <td>15</td>\n",
       "      <td>15</td>\n",
       "      <td>3</td>\n",
       "      <td>616</td>\n",
       "      <td>103*</td>\n",
       "      <td>51.33</td>\n",
       "      <td>455</td>\n",
       "      <td>135.38</td>\n",
       "      <td>2</td>\n",
       "      <td>4</td>\n",
       "      <td>45</td>\n",
       "    </tr>\n",
       "    <tr>\n",
       "      <th>2</th>\n",
       "      <td>Quinton De Kock</td>\n",
       "      <td>15</td>\n",
       "      <td>15</td>\n",
       "      <td>1</td>\n",
       "      <td>508</td>\n",
       "      <td>140*</td>\n",
       "      <td>36.29</td>\n",
       "      <td>341</td>\n",
       "      <td>148.97</td>\n",
       "      <td>1</td>\n",
       "      <td>3</td>\n",
       "      <td>47</td>\n",
       "    </tr>\n",
       "    <tr>\n",
       "      <th>3</th>\n",
       "      <td>Hardik Pandya</td>\n",
       "      <td>15</td>\n",
       "      <td>15</td>\n",
       "      <td>4</td>\n",
       "      <td>487</td>\n",
       "      <td>87*</td>\n",
       "      <td>44.27</td>\n",
       "      <td>371</td>\n",
       "      <td>131.26</td>\n",
       "      <td>0</td>\n",
       "      <td>4</td>\n",
       "      <td>49</td>\n",
       "    </tr>\n",
       "    <tr>\n",
       "      <th>4</th>\n",
       "      <td>Shubman Gill</td>\n",
       "      <td>16</td>\n",
       "      <td>16</td>\n",
       "      <td>2</td>\n",
       "      <td>483</td>\n",
       "      <td>96</td>\n",
       "      <td>34.5</td>\n",
       "      <td>365</td>\n",
       "      <td>132.32</td>\n",
       "      <td>0</td>\n",
       "      <td>4</td>\n",
       "      <td>51</td>\n",
       "    </tr>\n",
       "    <tr>\n",
       "      <th>...</th>\n",
       "      <td>...</td>\n",
       "      <td>...</td>\n",
       "      <td>...</td>\n",
       "      <td>...</td>\n",
       "      <td>...</td>\n",
       "      <td>...</td>\n",
       "      <td>...</td>\n",
       "      <td>...</td>\n",
       "      <td>...</td>\n",
       "      <td>...</td>\n",
       "      <td>...</td>\n",
       "      <td>...</td>\n",
       "    </tr>\n",
       "    <tr>\n",
       "      <th>157</th>\n",
       "      <td>Fazalhaq Farooqi</td>\n",
       "      <td>3</td>\n",
       "      <td>1</td>\n",
       "      <td>1</td>\n",
       "      <td>2</td>\n",
       "      <td>2*</td>\n",
       "      <td>-</td>\n",
       "      <td>8</td>\n",
       "      <td>25.00</td>\n",
       "      <td>0</td>\n",
       "      <td>0</td>\n",
       "      <td>0</td>\n",
       "    </tr>\n",
       "    <tr>\n",
       "      <th>158</th>\n",
       "      <td>Jagadeesha Suchith</td>\n",
       "      <td>5</td>\n",
       "      <td>2</td>\n",
       "      <td>0</td>\n",
       "      <td>2</td>\n",
       "      <td>2</td>\n",
       "      <td>1</td>\n",
       "      <td>8</td>\n",
       "      <td>25.00</td>\n",
       "      <td>0</td>\n",
       "      <td>0</td>\n",
       "      <td>0</td>\n",
       "    </tr>\n",
       "    <tr>\n",
       "      <th>159</th>\n",
       "      <td>Tim Southee</td>\n",
       "      <td>9</td>\n",
       "      <td>5</td>\n",
       "      <td>1</td>\n",
       "      <td>2</td>\n",
       "      <td>1*</td>\n",
       "      <td>0.5</td>\n",
       "      <td>12</td>\n",
       "      <td>16.66</td>\n",
       "      <td>0</td>\n",
       "      <td>0</td>\n",
       "      <td>0</td>\n",
       "    </tr>\n",
       "    <tr>\n",
       "      <th>160</th>\n",
       "      <td>Nathan Coulter-Nile</td>\n",
       "      <td>1</td>\n",
       "      <td>1</td>\n",
       "      <td>1</td>\n",
       "      <td>1</td>\n",
       "      <td>1*</td>\n",
       "      <td>-</td>\n",
       "      <td>2</td>\n",
       "      <td>50.00</td>\n",
       "      <td>0</td>\n",
       "      <td>0</td>\n",
       "      <td>0</td>\n",
       "    </tr>\n",
       "    <tr>\n",
       "      <th>161</th>\n",
       "      <td>Anrich Nortje</td>\n",
       "      <td>6</td>\n",
       "      <td>1</td>\n",
       "      <td>1</td>\n",
       "      <td>1</td>\n",
       "      <td>1*</td>\n",
       "      <td>-</td>\n",
       "      <td>6</td>\n",
       "      <td>16.66</td>\n",
       "      <td>0</td>\n",
       "      <td>0</td>\n",
       "      <td>0</td>\n",
       "    </tr>\n",
       "  </tbody>\n",
       "</table>\n",
       "<p>162 rows × 12 columns</p>\n",
       "</div>"
      ],
      "text/plain": [
       "                  Player  Mat  Inns  NO  Runs    HS    Avg   BF      SR  100  \\\n",
       "0            Jos Buttler   17    17   2   863   116  57.53  579  149.05    4   \n",
       "1              K L Rahul   15    15   3   616  103*  51.33  455  135.38    2   \n",
       "2        Quinton De Kock   15    15   1   508  140*  36.29  341  148.97    1   \n",
       "3          Hardik Pandya   15    15   4   487   87*  44.27  371  131.26    0   \n",
       "4           Shubman Gill   16    16   2   483    96   34.5  365  132.32    0   \n",
       "..                   ...  ...   ...  ..   ...   ...    ...  ...     ...  ...   \n",
       "157     Fazalhaq Farooqi    3     1   1     2    2*      -    8   25.00    0   \n",
       "158   Jagadeesha Suchith    5     2   0     2     2      1    8   25.00    0   \n",
       "159          Tim Southee    9     5   1     2    1*    0.5   12   16.66    0   \n",
       "160  Nathan Coulter-Nile    1     1   1     1    1*      -    2   50.00    0   \n",
       "161        Anrich Nortje    6     1   1     1    1*      -    6   16.66    0   \n",
       "\n",
       "     50  4s  \n",
       "0     4  83  \n",
       "1     4  45  \n",
       "2     3  47  \n",
       "3     4  49  \n",
       "4     4  51  \n",
       "..   ..  ..  \n",
       "157   0   0  \n",
       "158   0   0  \n",
       "159   0   0  \n",
       "160   0   0  \n",
       "161   0   0  \n",
       "\n",
       "[162 rows x 12 columns]"
      ]
     },
     "execution_count": 4,
     "metadata": {},
     "output_type": "execute_result"
    }
   ],
   "source": [
    "ipl_df"
   ]
  },
  {
   "cell_type": "markdown",
   "id": "b72a16cd",
   "metadata": {},
   "source": [
    "Use \"info\" function to get the idea about the type of entries and their respective counts. We can also get the idea about any null entries if any."
   ]
  },
  {
   "cell_type": "code",
   "execution_count": 201,
   "id": "9f1a2b98",
   "metadata": {},
   "outputs": [
    {
     "name": "stdout",
     "output_type": "stream",
     "text": [
      "<class 'pandas.core.frame.DataFrame'>\n",
      "RangeIndex: 162 entries, 0 to 161\n",
      "Data columns (total 12 columns):\n",
      " #   Column    Non-Null Count  Dtype  \n",
      "---  ------    --------------  -----  \n",
      " 0   Player    162 non-null    object \n",
      " 1   Mat       162 non-null    int64  \n",
      " 2   Inns      162 non-null    int64  \n",
      " 3   NO        162 non-null    int64  \n",
      " 4   Runs      162 non-null    int64  \n",
      " 5   HS        162 non-null    object \n",
      " 6   Avg       162 non-null    object \n",
      " 7   BF        162 non-null    int64  \n",
      " 8   SR        162 non-null    float64\n",
      " 9   Hundreds  162 non-null    int64  \n",
      " 10  Fifty     162 non-null    int64  \n",
      " 11  Fours     162 non-null    int64  \n",
      "dtypes: float64(1), int64(8), object(3)\n",
      "memory usage: 15.3+ KB\n"
     ]
    }
   ],
   "source": [
    "ipl_df.info()"
   ]
  },
  {
   "cell_type": "markdown",
   "id": "373cf3b8",
   "metadata": {},
   "source": [
    "Use \"describe\" function to get the mean, standard deviation, max, min of the given data"
   ]
  },
  {
   "cell_type": "code",
   "execution_count": 6,
   "id": "71842866",
   "metadata": {},
   "outputs": [
    {
     "data": {
      "text/html": [
       "<div>\n",
       "<style scoped>\n",
       "    .dataframe tbody tr th:only-of-type {\n",
       "        vertical-align: middle;\n",
       "    }\n",
       "\n",
       "    .dataframe tbody tr th {\n",
       "        vertical-align: top;\n",
       "    }\n",
       "\n",
       "    .dataframe thead th {\n",
       "        text-align: right;\n",
       "    }\n",
       "</style>\n",
       "<table border=\"1\" class=\"dataframe\">\n",
       "  <thead>\n",
       "    <tr style=\"text-align: right;\">\n",
       "      <th></th>\n",
       "      <th>Mat</th>\n",
       "      <th>Inns</th>\n",
       "      <th>NO</th>\n",
       "      <th>Runs</th>\n",
       "      <th>BF</th>\n",
       "      <th>SR</th>\n",
       "      <th>100</th>\n",
       "      <th>50</th>\n",
       "      <th>4s</th>\n",
       "    </tr>\n",
       "  </thead>\n",
       "  <tbody>\n",
       "    <tr>\n",
       "      <th>count</th>\n",
       "      <td>162.000000</td>\n",
       "      <td>162.000000</td>\n",
       "      <td>162.000000</td>\n",
       "      <td>162.000000</td>\n",
       "      <td>162.000000</td>\n",
       "      <td>162.000000</td>\n",
       "      <td>162.000000</td>\n",
       "      <td>162.000000</td>\n",
       "      <td>162.000000</td>\n",
       "    </tr>\n",
       "    <tr>\n",
       "      <th>mean</th>\n",
       "      <td>9.160494</td>\n",
       "      <td>7.141975</td>\n",
       "      <td>1.586420</td>\n",
       "      <td>142.296296</td>\n",
       "      <td>106.061728</td>\n",
       "      <td>120.406235</td>\n",
       "      <td>0.049383</td>\n",
       "      <td>0.679012</td>\n",
       "      <td>12.450617</td>\n",
       "    </tr>\n",
       "    <tr>\n",
       "      <th>std</th>\n",
       "      <td>5.047493</td>\n",
       "      <td>4.816982</td>\n",
       "      <td>1.819989</td>\n",
       "      <td>161.252161</td>\n",
       "      <td>114.571234</td>\n",
       "      <td>45.192799</td>\n",
       "      <td>0.366322</td>\n",
       "      <td>1.172428</td>\n",
       "      <td>15.314529</td>\n",
       "    </tr>\n",
       "    <tr>\n",
       "      <th>min</th>\n",
       "      <td>1.000000</td>\n",
       "      <td>1.000000</td>\n",
       "      <td>0.000000</td>\n",
       "      <td>1.000000</td>\n",
       "      <td>1.000000</td>\n",
       "      <td>16.660000</td>\n",
       "      <td>0.000000</td>\n",
       "      <td>0.000000</td>\n",
       "      <td>0.000000</td>\n",
       "    </tr>\n",
       "    <tr>\n",
       "      <th>25%</th>\n",
       "      <td>5.000000</td>\n",
       "      <td>3.000000</td>\n",
       "      <td>0.000000</td>\n",
       "      <td>14.500000</td>\n",
       "      <td>14.000000</td>\n",
       "      <td>94.082500</td>\n",
       "      <td>0.000000</td>\n",
       "      <td>0.000000</td>\n",
       "      <td>1.000000</td>\n",
       "    </tr>\n",
       "    <tr>\n",
       "      <th>50%</th>\n",
       "      <td>9.500000</td>\n",
       "      <td>7.000000</td>\n",
       "      <td>1.000000</td>\n",
       "      <td>65.000000</td>\n",
       "      <td>47.500000</td>\n",
       "      <td>123.620000</td>\n",
       "      <td>0.000000</td>\n",
       "      <td>0.000000</td>\n",
       "      <td>5.000000</td>\n",
       "    </tr>\n",
       "    <tr>\n",
       "      <th>75%</th>\n",
       "      <td>14.000000</td>\n",
       "      <td>11.000000</td>\n",
       "      <td>2.000000</td>\n",
       "      <td>241.500000</td>\n",
       "      <td>176.500000</td>\n",
       "      <td>144.247500</td>\n",
       "      <td>0.000000</td>\n",
       "      <td>1.000000</td>\n",
       "      <td>21.000000</td>\n",
       "    </tr>\n",
       "    <tr>\n",
       "      <th>max</th>\n",
       "      <td>17.000000</td>\n",
       "      <td>17.000000</td>\n",
       "      <td>10.000000</td>\n",
       "      <td>863.000000</td>\n",
       "      <td>579.000000</td>\n",
       "      <td>400.000000</td>\n",
       "      <td>4.000000</td>\n",
       "      <td>5.000000</td>\n",
       "      <td>83.000000</td>\n",
       "    </tr>\n",
       "  </tbody>\n",
       "</table>\n",
       "</div>"
      ],
      "text/plain": [
       "              Mat        Inns          NO        Runs          BF          SR  \\\n",
       "count  162.000000  162.000000  162.000000  162.000000  162.000000  162.000000   \n",
       "mean     9.160494    7.141975    1.586420  142.296296  106.061728  120.406235   \n",
       "std      5.047493    4.816982    1.819989  161.252161  114.571234   45.192799   \n",
       "min      1.000000    1.000000    0.000000    1.000000    1.000000   16.660000   \n",
       "25%      5.000000    3.000000    0.000000   14.500000   14.000000   94.082500   \n",
       "50%      9.500000    7.000000    1.000000   65.000000   47.500000  123.620000   \n",
       "75%     14.000000   11.000000    2.000000  241.500000  176.500000  144.247500   \n",
       "max     17.000000   17.000000   10.000000  863.000000  579.000000  400.000000   \n",
       "\n",
       "              100          50          4s  \n",
       "count  162.000000  162.000000  162.000000  \n",
       "mean     0.049383    0.679012   12.450617  \n",
       "std      0.366322    1.172428   15.314529  \n",
       "min      0.000000    0.000000    0.000000  \n",
       "25%      0.000000    0.000000    1.000000  \n",
       "50%      0.000000    0.000000    5.000000  \n",
       "75%      0.000000    1.000000   21.000000  \n",
       "max      4.000000    5.000000   83.000000  "
      ]
     },
     "execution_count": 6,
     "metadata": {},
     "output_type": "execute_result"
    }
   ],
   "source": [
    "ipl_df.describe()"
   ]
  },
  {
   "cell_type": "markdown",
   "id": "018717f9",
   "metadata": {},
   "source": [
    "Import Matplotlib and seaborn libraries to visualise and analyse the data using graphs."
   ]
  },
  {
   "cell_type": "code",
   "execution_count": 202,
   "id": "c7a8d066",
   "metadata": {},
   "outputs": [],
   "source": [
    "import matplotlib\n",
    "import matplotlib.pyplot as plt\n",
    "%matplotlib inline\n",
    "import seaborn as sns"
   ]
  },
  {
   "cell_type": "code",
   "execution_count": 203,
   "id": "ecf821da",
   "metadata": {},
   "outputs": [
    {
     "data": {
      "text/plain": [
       "count    162.000000\n",
       "mean     142.296296\n",
       "std      161.252161\n",
       "min        1.000000\n",
       "25%       14.500000\n",
       "50%       65.000000\n",
       "75%      241.500000\n",
       "max      863.000000\n",
       "Name: Runs, dtype: float64"
      ]
     },
     "execution_count": 203,
     "metadata": {},
     "output_type": "execute_result"
    }
   ],
   "source": [
    "ipl_df.Runs.describe()"
   ]
  },
  {
   "cell_type": "markdown",
   "id": "f91ef51c",
   "metadata": {},
   "source": [
    "Setting the figure size, font size and color."
   ]
  },
  {
   "cell_type": "code",
   "execution_count": 204,
   "id": "de934799",
   "metadata": {},
   "outputs": [],
   "source": [
    "matplotlib.rcParams['font.size'] = 14\n",
    "matplotlib.rcParams['figure.figsize'] = (10, 6)\n",
    "matplotlib.rcParams['figure.facecolor'] = '#00000000'"
   ]
  },
  {
   "cell_type": "markdown",
   "id": "376e371c",
   "metadata": {},
   "source": [
    "Here we're using renaming function to rename the column names of type int into some string type. Here we renamed 100, 50 and 4s\n",
    "column to Hundreds, Fifty and Fours."
   ]
  },
  {
   "cell_type": "code",
   "execution_count": 206,
   "id": "8c4326b4",
   "metadata": {},
   "outputs": [
    {
     "data": {
      "text/html": [
       "<div>\n",
       "<style scoped>\n",
       "    .dataframe tbody tr th:only-of-type {\n",
       "        vertical-align: middle;\n",
       "    }\n",
       "\n",
       "    .dataframe tbody tr th {\n",
       "        vertical-align: top;\n",
       "    }\n",
       "\n",
       "    .dataframe thead th {\n",
       "        text-align: right;\n",
       "    }\n",
       "</style>\n",
       "<table border=\"1\" class=\"dataframe\">\n",
       "  <thead>\n",
       "    <tr style=\"text-align: right;\">\n",
       "      <th></th>\n",
       "      <th>Player</th>\n",
       "      <th>Mat</th>\n",
       "      <th>Inns</th>\n",
       "      <th>NO</th>\n",
       "      <th>Runs</th>\n",
       "      <th>HS</th>\n",
       "      <th>Avg</th>\n",
       "      <th>BF</th>\n",
       "      <th>SR</th>\n",
       "      <th>Hundreds</th>\n",
       "      <th>Fifty</th>\n",
       "      <th>Fours</th>\n",
       "    </tr>\n",
       "  </thead>\n",
       "  <tbody>\n",
       "    <tr>\n",
       "      <th>0</th>\n",
       "      <td>Jos Buttler</td>\n",
       "      <td>17</td>\n",
       "      <td>17</td>\n",
       "      <td>2</td>\n",
       "      <td>863</td>\n",
       "      <td>116</td>\n",
       "      <td>57.53</td>\n",
       "      <td>579</td>\n",
       "      <td>149.05</td>\n",
       "      <td>4</td>\n",
       "      <td>4</td>\n",
       "      <td>83</td>\n",
       "    </tr>\n",
       "    <tr>\n",
       "      <th>1</th>\n",
       "      <td>K L Rahul</td>\n",
       "      <td>15</td>\n",
       "      <td>15</td>\n",
       "      <td>3</td>\n",
       "      <td>616</td>\n",
       "      <td>103*</td>\n",
       "      <td>51.33</td>\n",
       "      <td>455</td>\n",
       "      <td>135.38</td>\n",
       "      <td>2</td>\n",
       "      <td>4</td>\n",
       "      <td>45</td>\n",
       "    </tr>\n",
       "    <tr>\n",
       "      <th>2</th>\n",
       "      <td>Quinton De Kock</td>\n",
       "      <td>15</td>\n",
       "      <td>15</td>\n",
       "      <td>1</td>\n",
       "      <td>508</td>\n",
       "      <td>140*</td>\n",
       "      <td>36.29</td>\n",
       "      <td>341</td>\n",
       "      <td>148.97</td>\n",
       "      <td>1</td>\n",
       "      <td>3</td>\n",
       "      <td>47</td>\n",
       "    </tr>\n",
       "    <tr>\n",
       "      <th>3</th>\n",
       "      <td>Hardik Pandya</td>\n",
       "      <td>15</td>\n",
       "      <td>15</td>\n",
       "      <td>4</td>\n",
       "      <td>487</td>\n",
       "      <td>87*</td>\n",
       "      <td>44.27</td>\n",
       "      <td>371</td>\n",
       "      <td>131.26</td>\n",
       "      <td>0</td>\n",
       "      <td>4</td>\n",
       "      <td>49</td>\n",
       "    </tr>\n",
       "    <tr>\n",
       "      <th>4</th>\n",
       "      <td>Shubman Gill</td>\n",
       "      <td>16</td>\n",
       "      <td>16</td>\n",
       "      <td>2</td>\n",
       "      <td>483</td>\n",
       "      <td>96</td>\n",
       "      <td>34.5</td>\n",
       "      <td>365</td>\n",
       "      <td>132.32</td>\n",
       "      <td>0</td>\n",
       "      <td>4</td>\n",
       "      <td>51</td>\n",
       "    </tr>\n",
       "    <tr>\n",
       "      <th>...</th>\n",
       "      <td>...</td>\n",
       "      <td>...</td>\n",
       "      <td>...</td>\n",
       "      <td>...</td>\n",
       "      <td>...</td>\n",
       "      <td>...</td>\n",
       "      <td>...</td>\n",
       "      <td>...</td>\n",
       "      <td>...</td>\n",
       "      <td>...</td>\n",
       "      <td>...</td>\n",
       "      <td>...</td>\n",
       "    </tr>\n",
       "    <tr>\n",
       "      <th>157</th>\n",
       "      <td>Fazalhaq Farooqi</td>\n",
       "      <td>3</td>\n",
       "      <td>1</td>\n",
       "      <td>1</td>\n",
       "      <td>2</td>\n",
       "      <td>2*</td>\n",
       "      <td>-</td>\n",
       "      <td>8</td>\n",
       "      <td>25.00</td>\n",
       "      <td>0</td>\n",
       "      <td>0</td>\n",
       "      <td>0</td>\n",
       "    </tr>\n",
       "    <tr>\n",
       "      <th>158</th>\n",
       "      <td>Jagadeesha Suchith</td>\n",
       "      <td>5</td>\n",
       "      <td>2</td>\n",
       "      <td>0</td>\n",
       "      <td>2</td>\n",
       "      <td>2</td>\n",
       "      <td>1</td>\n",
       "      <td>8</td>\n",
       "      <td>25.00</td>\n",
       "      <td>0</td>\n",
       "      <td>0</td>\n",
       "      <td>0</td>\n",
       "    </tr>\n",
       "    <tr>\n",
       "      <th>159</th>\n",
       "      <td>Tim Southee</td>\n",
       "      <td>9</td>\n",
       "      <td>5</td>\n",
       "      <td>1</td>\n",
       "      <td>2</td>\n",
       "      <td>1*</td>\n",
       "      <td>0.5</td>\n",
       "      <td>12</td>\n",
       "      <td>16.66</td>\n",
       "      <td>0</td>\n",
       "      <td>0</td>\n",
       "      <td>0</td>\n",
       "    </tr>\n",
       "    <tr>\n",
       "      <th>160</th>\n",
       "      <td>Nathan Coulter-Nile</td>\n",
       "      <td>1</td>\n",
       "      <td>1</td>\n",
       "      <td>1</td>\n",
       "      <td>1</td>\n",
       "      <td>1*</td>\n",
       "      <td>-</td>\n",
       "      <td>2</td>\n",
       "      <td>50.00</td>\n",
       "      <td>0</td>\n",
       "      <td>0</td>\n",
       "      <td>0</td>\n",
       "    </tr>\n",
       "    <tr>\n",
       "      <th>161</th>\n",
       "      <td>Anrich Nortje</td>\n",
       "      <td>6</td>\n",
       "      <td>1</td>\n",
       "      <td>1</td>\n",
       "      <td>1</td>\n",
       "      <td>1*</td>\n",
       "      <td>-</td>\n",
       "      <td>6</td>\n",
       "      <td>16.66</td>\n",
       "      <td>0</td>\n",
       "      <td>0</td>\n",
       "      <td>0</td>\n",
       "    </tr>\n",
       "  </tbody>\n",
       "</table>\n",
       "<p>162 rows × 12 columns</p>\n",
       "</div>"
      ],
      "text/plain": [
       "                  Player  Mat  Inns  NO  Runs    HS    Avg   BF      SR  \\\n",
       "0            Jos Buttler   17    17   2   863   116  57.53  579  149.05   \n",
       "1              K L Rahul   15    15   3   616  103*  51.33  455  135.38   \n",
       "2        Quinton De Kock   15    15   1   508  140*  36.29  341  148.97   \n",
       "3          Hardik Pandya   15    15   4   487   87*  44.27  371  131.26   \n",
       "4           Shubman Gill   16    16   2   483    96   34.5  365  132.32   \n",
       "..                   ...  ...   ...  ..   ...   ...    ...  ...     ...   \n",
       "157     Fazalhaq Farooqi    3     1   1     2    2*      -    8   25.00   \n",
       "158   Jagadeesha Suchith    5     2   0     2     2      1    8   25.00   \n",
       "159          Tim Southee    9     5   1     2    1*    0.5   12   16.66   \n",
       "160  Nathan Coulter-Nile    1     1   1     1    1*      -    2   50.00   \n",
       "161        Anrich Nortje    6     1   1     1    1*      -    6   16.66   \n",
       "\n",
       "     Hundreds  Fifty  Fours  \n",
       "0           4      4     83  \n",
       "1           2      4     45  \n",
       "2           1      3     47  \n",
       "3           0      4     49  \n",
       "4           0      4     51  \n",
       "..        ...    ...    ...  \n",
       "157         0      0      0  \n",
       "158         0      0      0  \n",
       "159         0      0      0  \n",
       "160         0      0      0  \n",
       "161         0      0      0  \n",
       "\n",
       "[162 rows x 12 columns]"
      ]
     },
     "execution_count": 206,
     "metadata": {},
     "output_type": "execute_result"
    }
   ],
   "source": [
    "ipl_df.rename(columns = {'4s': 'Fours','50': 'Fifty','100':'Hundreds'}, inplace = True)       \n",
    "ipl_df"
   ]
  },
  {
   "cell_type": "markdown",
   "id": "1f12954c",
   "metadata": {},
   "source": [
    "In this step we're using matplotlib library to plot a scatter plot between Runs and Fours to get the idea about how the two \n",
    "items are related. The red line is the best fit line. The \"corr\" function is used to calculate the correlation between the \n",
    "two quantities"
   ]
  },
  {
   "cell_type": "code",
   "execution_count": 212,
   "id": "f086b6a3",
   "metadata": {},
   "outputs": [
    {
     "data": {
      "text/plain": [
       "0.9632151223735129"
      ]
     },
     "execution_count": 212,
     "metadata": {},
     "output_type": "execute_result"
    },
    {
     "data": {
      "image/png": "[encoded data removed]",
      "text/plain": [
       "<Figure size 720x432 with 1 Axes>"
      ]
     },
     "metadata": {
      "needs_background": "light"
     },
     "output_type": "display_data"
    }
   ],
   "source": [
    "# plotting the data\n",
    "x = ipl_df.Runs\n",
    "y = ipl_df.Fours\n",
    "plt.scatter(x, y)\n",
    " \n",
    "# This will fit the best line into the graph\n",
    "plt.plot(np.unique(x), np.poly1d(np.polyfit(x, y, 1))\n",
    "         (np.unique(x)), color='red')\n",
    "plt.xlabel('Runs')\n",
    "plt.ylabel('Fours')\n",
    "ipl_df.Runs.corr(ipl_df.Fours)"
   ]
  },
  {
   "cell_type": "markdown",
   "id": "94ddaf22",
   "metadata": {},
   "source": [
    "In this step we're using matplotlib library to plot a scatter plot between Strikerate and Runs to get the idea about how the \n",
    "two items are related. The red line is the best fit line."
   ]
  },
  {
   "cell_type": "code",
   "execution_count": 208,
   "id": "230234de",
   "metadata": {},
   "outputs": [
    {
     "data": {
      "text/plain": [
       "0.3506496178784997"
      ]
     },
     "execution_count": 208,
     "metadata": {},
     "output_type": "execute_result"
    },
    {
     "data": {
      "image/png": "[encoded data removed]",
      "text/plain": [
       "<Figure size 720x432 with 1 Axes>"
      ]
     },
     "metadata": {
      "needs_background": "light"
     },
     "output_type": "display_data"
    }
   ],
   "source": [
    "# plotting the data\n",
    "x = ipl_df.Runs\n",
    "y = ipl_df.SR\n",
    "plt.scatter(x, y)\n",
    " \n",
    "# This will fit the best line into the graph\n",
    "plt.plot(np.unique(x), np.poly1d(np.polyfit(x, y, 1))\n",
    "         (np.unique(x)), color='red')\n",
    "plt.xlabel('Runs')\n",
    "plt.ylabel('SR')\n",
    "ipl_df.Runs.corr(ipl_df.SR)"
   ]
  },
  {
   "cell_type": "markdown",
   "id": "f538c782",
   "metadata": {},
   "source": [
    "In this step we're using matplotlib library to plot a scatter plot between Stirke Rate and Fours to get the idea about how the \n",
    "two items are related. The red line is the best fit line."
   ]
  },
  {
   "cell_type": "code",
   "execution_count": 209,
   "id": "a8c7ddd7",
   "metadata": {},
   "outputs": [
    {
     "data": {
      "text/plain": [
       "0.3091706091518867"
      ]
     },
     "execution_count": 209,
     "metadata": {},
     "output_type": "execute_result"
    },
    {
     "data": {
      "image/png": "[encoded data removed]",
      "text/plain": [
       "<Figure size 720x432 with 1 Axes>"
      ]
     },
     "metadata": {
      "needs_background": "light"
     },
     "output_type": "display_data"
    }
   ],
   "source": [
    "# plotting the data\n",
    "x = ipl_df.SR\n",
    "y = ipl_df.Fours\n",
    "plt.scatter(x, y)\n",
    " \n",
    "# This will fit the best line into the graph\n",
    "plt.plot(np.unique(x), np.poly1d(np.polyfit(x, y, 1))\n",
    "         (np.unique(x)), color='red')\n",
    "plt.xlabel('SR')\n",
    "plt.ylabel('Fours')\n",
    "ipl_df.SR.corr(ipl_df.Fours)"
   ]
  },
  {
   "cell_type": "markdown",
   "id": "3ab643ed",
   "metadata": {},
   "source": [
    "In this step we used seaborn library to form a correlation matrix. It shows how one quantity is related with other qauantities.\n",
    "Correlation of 1 represents that the two quantities are highly correlated or they have a stronger relationship. If correlation\n",
    "value is small it means the two quantities are weakly dependent on each other and if correlation value is high then the two \n",
    "quantities are strongly dependent on each other."
   ]
  },
  {
   "cell_type": "code",
   "execution_count": 215,
   "id": "9ce63304",
   "metadata": {},
   "outputs": [
    {
     "data": {
      "image/png": "[encoded data removed]",
      "text/plain": [
       "<Figure size 720x432 with 2 Axes>"
      ]
     },
     "metadata": {
      "needs_background": "light"
     },
     "output_type": "display_data"
    }
   ],
   "source": [
    "sns.heatmap(ipl_df.corr(), cmap='Reds', annot=True)\n",
    "plt.title('Correlation Matrix');"
   ]
  },
  {
   "cell_type": "code",
   "execution_count": 216,
   "id": "55276edf",
   "metadata": {},
   "outputs": [
    {
     "data": {
      "image/png": "[encoded data removed]",
      "text/plain": [
       "<Figure size 720x432 with 1 Axes>"
      ]
     },
     "metadata": {
      "needs_background": "light"
     },
     "output_type": "display_data"
    }
   ],
   "source": [
    "plt.title('Runs vs. Fours')\n",
    "sns.scatterplot(data=ipl_df, x='Runs', y='Fours', alpha=0.7, s=15);"
   ]
  },
  {
   "cell_type": "markdown",
   "id": "2f16a0c3",
   "metadata": {},
   "source": [
    "Define a function to calculate number of fours using runs scored. Here w and b are the paramters, where w is the slope of the\n",
    "straight line and b is the intercept."
   ]
  },
  {
   "cell_type": "code",
   "execution_count": 218,
   "id": "70a6a4a5",
   "metadata": {},
   "outputs": [],
   "source": [
    "def estimate_fours(Runs, w, b):\n",
    "    return w * Runs + b"
   ]
  },
  {
   "cell_type": "code",
   "execution_count": null,
   "id": "09c7bc61",
   "metadata": {},
   "outputs": [],
   "source": []
  },
  {
   "cell_type": "code",
   "execution_count": 219,
   "id": "7644cd6a",
   "metadata": {},
   "outputs": [],
   "source": [
    "Runs = ipl_df.Runs\n",
    "estimated_fours = estimate_fours(Runs, w, b)"
   ]
  },
  {
   "cell_type": "code",
   "execution_count": 220,
   "id": "dfb194e5",
   "metadata": {},
   "outputs": [
    {
     "data": {
      "image/png": "[encoded data removed]",
      "text/plain": [
       "<Figure size 720x432 with 1 Axes>"
      ]
     },
     "metadata": {
      "needs_background": "light"
     },
     "output_type": "display_data"
    }
   ],
   "source": [
    "plt.plot(Runs, estimated_fours, 'r-o');\n",
    "plt.xlabel('Estimated Fours');\n",
    "plt.ylabel('Runs');"
   ]
  },
  {
   "cell_type": "markdown",
   "id": "a246cc81",
   "metadata": {},
   "source": [
    "In this piece of code we're plotting the estimated value and the actual value."
   ]
  },
  {
   "cell_type": "code",
   "execution_count": 221,
   "id": "4bc06237",
   "metadata": {},
   "outputs": [
    {
     "data": {
      "image/png": "[encoded data removed]",
      "text/plain": [
       "<Figure size 720x432 with 1 Axes>"
      ]
     },
     "metadata": {
      "needs_background": "light"
     },
     "output_type": "display_data"
    }
   ],
   "source": [
    "target = ipl_df.Fours\n",
    "\n",
    "plt.plot(Runs, estimated_fours, 'r', alpha=0.9);\n",
    "plt.scatter(Runs, target, s=8,alpha=0.8);\n",
    "plt.xlabel('Estimated Fours');\n",
    "plt.ylabel('Runs')\n",
    "plt.legend(['Estimate', 'Actual']);"
   ]
  },
  {
   "cell_type": "markdown",
   "id": "06fa7e6f",
   "metadata": {},
   "source": [
    "Here we defined a \"try_parameters\" function to predict the results by tuning w and b. And getting the best set of values of\n",
    "w and b to get the best fitted line."
   ]
  },
  {
   "cell_type": "code",
   "execution_count": 223,
   "id": "c0f1b988",
   "metadata": {},
   "outputs": [],
   "source": [
    "def try_parameters(w, b):\n",
    "    Runs = ipl_df.Runs\n",
    "    target = ipl_df.Fours\n",
    "    \n",
    "    estimated_fours = estimate_fours(Runs, w, b)\n",
    "    \n",
    "    plt.plot(Runs, estimated_fours, 'r', alpha=0.9);\n",
    "    plt.scatter(Runs, target, s=8,alpha=0.8);\n",
    "    plt.xlabel('Runs');\n",
    "    plt.ylabel('Fours')\n",
    "    plt.legend(['Estimate', 'Actual']);"
   ]
  },
  {
   "cell_type": "code",
   "execution_count": 224,
   "id": "0e53c38b",
   "metadata": {},
   "outputs": [
    {
     "data": {
      "image/png": "[encoded data removed]",
      "text/plain": [
       "<Figure size 720x432 with 1 Axes>"
      ]
     },
     "metadata": {
      "needs_background": "light"
     },
     "output_type": "display_data"
    }
   ],
   "source": [
    "try_parameters(0.085, 0.5)"
   ]
  },
  {
   "cell_type": "markdown",
   "id": "0f5f050b",
   "metadata": {},
   "source": [
    "Here we defined root mean square loss function to get the idea about how far out results are from the actual value."
   ]
  },
  {
   "cell_type": "code",
   "execution_count": 90,
   "id": "d53b1258",
   "metadata": {},
   "outputs": [],
   "source": [
    "def rmse(targets, predictions):\n",
    "    return np.sqrt(np.mean(np.square(targets - predictions)))"
   ]
  },
  {
   "cell_type": "code",
   "execution_count": 225,
   "id": "7b1f06bf",
   "metadata": {},
   "outputs": [],
   "source": [
    "targets = ipl_df['Fours']\n",
    "predicted = estimate_fours(ipl_df.Runs, 0.09, -0.3)"
   ]
  },
  {
   "cell_type": "code",
   "execution_count": 226,
   "id": "79138053",
   "metadata": {},
   "outputs": [
    {
     "data": {
      "text/plain": [
       "4.110040250921826"
      ]
     },
     "execution_count": 226,
     "metadata": {},
     "output_type": "execute_result"
    }
   ],
   "source": [
    "rmse(targets, predicted)"
   ]
  },
  {
   "cell_type": "markdown",
   "id": "3aff5ab5",
   "metadata": {},
   "source": [
    "Now we used scikit-learn library to use the inbuilt Linear Regression model to predict the output."
   ]
  },
  {
   "cell_type": "code",
   "execution_count": 231,
   "id": "4214c9a4",
   "metadata": {},
   "outputs": [],
   "source": [
    "from sklearn.linear_model import LinearRegression"
   ]
  },
  {
   "cell_type": "code",
   "execution_count": 232,
   "id": "b22ad44f",
   "metadata": {},
   "outputs": [],
   "source": [
    "model = LinearRegression()"
   ]
  },
  {
   "cell_type": "markdown",
   "id": "81bbcc52",
   "metadata": {},
   "source": [
    "Get the shape of the input and targets"
   ]
  },
  {
   "cell_type": "code",
   "execution_count": 233,
   "id": "adfc310d",
   "metadata": {},
   "outputs": [
    {
     "name": "stdout",
     "output_type": "stream",
     "text": [
      "inputs.shape : (162, 1)\n",
      "targes.shape : (162,)\n"
     ]
    }
   ],
   "source": [
    "inputs = ipl_df[['Runs']]\n",
    "targets = ipl_df.Fours\n",
    "print('inputs.shape :', inputs.shape)\n",
    "print('targes.shape :', targets.shape)"
   ]
  },
  {
   "cell_type": "markdown",
   "id": "e7bca1e3",
   "metadata": {},
   "source": [
    "Fit the model on our input and target."
   ]
  },
  {
   "cell_type": "code",
   "execution_count": 234,
   "id": "642b739d",
   "metadata": {},
   "outputs": [
    {
     "data": {
      "text/plain": [
       "LinearRegression()"
      ]
     },
     "execution_count": 234,
     "metadata": {},
     "output_type": "execute_result"
    }
   ],
   "source": [
    "model.fit(inputs, targets)"
   ]
  },
  {
   "cell_type": "markdown",
   "id": "e4ee8d1f",
   "metadata": {},
   "source": [
    "Use above model for predicting output for set of values."
   ]
  },
  {
   "cell_type": "code",
   "execution_count": 235,
   "id": "3aaf2941",
   "metadata": {},
   "outputs": [
    {
     "name": "stderr",
     "output_type": "stream",
     "text": [
      "C:\\Users\\DELL\\anaconda3\\lib\\site-packages\\sklearn\\base.py:450: UserWarning: X does not have valid feature names, but LinearRegression was fitted with feature names\n",
      "  warnings.warn(\n"
     ]
    },
    {
     "data": {
      "text/plain": [
       "array([78.37987111, 55.78455821, 45.90482625])"
      ]
     },
     "execution_count": 235,
     "metadata": {},
     "output_type": "execute_result"
    }
   ],
   "source": [
    "model.predict(np.array([[863], \n",
    "                        [616], \n",
    "                        [508]]))"
   ]
  },
  {
   "cell_type": "markdown",
   "id": "8b1578c7",
   "metadata": {},
   "source": [
    "Use above model to predict for the whole input."
   ]
  },
  {
   "cell_type": "code",
   "execution_count": 236,
   "id": "7ed3c024",
   "metadata": {},
   "outputs": [],
   "source": [
    "predictions = model.predict(inputs)"
   ]
  },
  {
   "cell_type": "code",
   "execution_count": 174,
   "id": "fece5ee9",
   "metadata": {},
   "outputs": [
    {
     "data": {
      "text/plain": [
       "array([ 7.83798711e+01,  5.57845582e+01,  4.59048263e+01,  4.39837673e+01,\n",
       "        4.36178513e+01,  4.34348933e+01,  4.22456663e+01,  4.15138343e+01,\n",
       "        4.13308763e+01,  4.06905233e+01,  3.94098173e+01,  3.89524223e+01,\n",
       "        3.84035483e+01,  3.76717163e+01,  3.72143213e+01,  3.61165733e+01,\n",
       "        3.57506573e+01,  3.42869933e+01,  3.38295983e+01,  3.30977663e+01,\n",
       "        3.24574133e+01,  3.06278333e+01,  3.05363543e+01,  3.00789593e+01,\n",
       "        2.98960013e+01,  2.96215643e+01,  2.84323373e+01,  2.81579003e+01,\n",
       "        2.74260683e+01,  2.71516313e+01,  2.69686733e+01,  2.58709253e+01,\n",
       "        2.53220513e+01,  2.44987403e+01,  2.39498663e+01,  2.30350763e+01,\n",
       "        2.25776814e+01,  2.24862024e+01,  2.23947234e+01,  2.23032444e+01,\n",
       "        2.17543704e+01,  2.08395804e+01,  2.06566224e+01,  2.04736644e+01,\n",
       "        1.94673954e+01,  1.92844374e+01,  1.91929584e+01,  1.82781684e+01,\n",
       "        1.73633784e+01,  1.69059834e+01,  1.64485884e+01,  1.61741514e+01,\n",
       "        1.61741514e+01,  1.60826724e+01,  1.60826724e+01,  1.53508404e+01,\n",
       "        1.48934454e+01,  1.41616134e+01,  1.41616134e+01,  1.41616134e+01,\n",
       "        1.37956974e+01,  1.37042184e+01,  1.26979494e+01,  1.26064704e+01,\n",
       "        1.16002014e+01,  1.12342854e+01,  1.04109744e+01,  1.01365374e+01,\n",
       "        1.00450584e+01,  9.31322641e+00,  8.67287341e+00,  7.75808342e+00,\n",
       "        7.75808342e+00,  7.48364642e+00,  7.30068842e+00,  7.30068842e+00,\n",
       "        6.47737742e+00,  6.11146142e+00,  5.92850342e+00,  5.74554542e+00,\n",
       "        5.56258742e+00,  5.19667143e+00,  4.83075543e+00,  4.73927643e+00,\n",
       "        4.73927643e+00,  4.46483943e+00,  4.09892343e+00,  3.82448643e+00,\n",
       "        3.82448643e+00,  3.64152843e+00,  3.55004943e+00,  3.45857043e+00,\n",
       "        3.36709143e+00,  3.36709143e+00,  3.36709143e+00,  3.09265444e+00,\n",
       "        3.09265444e+00,  2.90969644e+00,  2.90969644e+00,  2.81821744e+00,\n",
       "        2.45230144e+00,  2.45230144e+00,  2.26934344e+00,  2.17786444e+00,\n",
       "        1.62899044e+00,  1.62899044e+00,  1.53751144e+00,  1.53751144e+00,\n",
       "        1.53751144e+00,  1.44603244e+00,  1.44603244e+00,  1.44603244e+00,\n",
       "        1.44603244e+00,  1.35455344e+00,  1.35455344e+00,  1.17159544e+00,\n",
       "        1.17159544e+00,  1.08011644e+00,  1.08011644e+00,  1.08011644e+00,\n",
       "        8.97158445e-01,  7.14200446e-01,  6.22721446e-01,  5.31242447e-01,\n",
       "        5.31242447e-01,  4.39763447e-01,  4.39763447e-01,  2.56805448e-01,\n",
       "        2.56805448e-01,  1.65326448e-01,  1.65326448e-01,  1.65326448e-01,\n",
       "        7.38474486e-02,  7.38474486e-02,  7.38474486e-02,  7.38474486e-02,\n",
       "        7.38474486e-02, -1.76315510e-02, -1.76315510e-02, -1.76315510e-02,\n",
       "       -1.09110551e-01, -1.09110551e-01, -1.09110551e-01, -1.09110551e-01,\n",
       "       -1.09110551e-01, -2.00589550e-01, -2.00589550e-01, -2.00589550e-01,\n",
       "       -2.00589550e-01, -2.00589550e-01, -2.92068550e-01, -2.92068550e-01,\n",
       "       -2.92068550e-01, -3.83547549e-01, -3.83547549e-01, -3.83547549e-01,\n",
       "       -3.83547549e-01, -3.83547549e-01, -3.83547549e-01, -3.83547549e-01,\n",
       "       -4.75026549e-01, -4.75026549e-01])"
      ]
     },
     "execution_count": 174,
     "metadata": {},
     "output_type": "execute_result"
    }
   ],
   "source": [
    "predictions"
   ]
  },
  {
   "cell_type": "markdown",
   "id": "92ffa44d",
   "metadata": {},
   "source": [
    "Find the root mean square error."
   ]
  },
  {
   "cell_type": "code",
   "execution_count": 237,
   "id": "fcbc5ea0",
   "metadata": {},
   "outputs": [
    {
     "data": {
      "text/plain": [
       "4.102774921188964"
      ]
     },
     "execution_count": 237,
     "metadata": {},
     "output_type": "execute_result"
    }
   ],
   "source": [
    "rmse(targets, predictions)"
   ]
  },
  {
   "cell_type": "markdown",
   "id": "6b3dc82a",
   "metadata": {},
   "source": [
    "Get the coefficients w and b for which we get the least root mean square error."
   ]
  },
  {
   "cell_type": "code",
   "execution_count": 239,
   "id": "22f41fa6",
   "metadata": {},
   "outputs": [
    {
     "data": {
      "text/plain": [
       "array([0.091479])"
      ]
     },
     "execution_count": 239,
     "metadata": {},
     "output_type": "execute_result"
    }
   ],
   "source": [
    "model.coef_"
   ]
  },
  {
   "cell_type": "code",
   "execution_count": 240,
   "id": "3cdc4f56",
   "metadata": {},
   "outputs": [
    {
     "data": {
      "text/plain": [
       "-0.5665055486173944"
      ]
     },
     "execution_count": 240,
     "metadata": {},
     "output_type": "execute_result"
    }
   ],
   "source": [
    "model.intercept_"
   ]
  },
  {
   "cell_type": "code",
   "execution_count": 241,
   "id": "9fc0e9c7",
   "metadata": {},
   "outputs": [
    {
     "data": {
      "image/png": "[encoded data removed]",
      "text/plain": [
       "<Figure size 720x432 with 1 Axes>"
      ]
     },
     "metadata": {
      "needs_background": "light"
     },
     "output_type": "display_data"
    }
   ],
   "source": [
    "try_parameters(model.coef_, model.intercept_)"
   ]
  },
  {
   "cell_type": "markdown",
   "id": "2de605e3",
   "metadata": {},
   "source": [
    "Now we're using the all the important features for predicting the output."
   ]
  },
  {
   "cell_type": "code",
   "execution_count": 179,
   "id": "0e1f78fc",
   "metadata": {},
   "outputs": [
    {
     "name": "stdout",
     "output_type": "stream",
     "text": [
      "Loss: 3.8958492109349674\n"
     ]
    }
   ],
   "source": [
    "# Create inputs and targets\n",
    "inputs, targets = ipl_df[['Runs', 'BF','Fifty','Inns']], ipl_df['Fours']\n",
    "\n",
    "# Create and train the model\n",
    "model = LinearRegression().fit(inputs, targets)\n",
    "\n",
    "# Generate predictions\n",
    "predictions = model.predict(inputs)\n",
    "\n",
    "# Compute loss to evalute the model\n",
    "loss = rmse(targets, predictions)\n",
    "print('Loss:', loss)"
   ]
  },
  {
   "cell_type": "code",
   "execution_count": 180,
   "id": "351ecc6b",
   "metadata": {},
   "outputs": [
    {
     "data": {
      "text/plain": [
       "(array([ 0.05373419,  0.05507989,  0.90686803, -0.2503024 ]),\n",
       " 0.13445282857825624)"
      ]
     },
     "execution_count": 180,
     "metadata": {},
     "output_type": "execute_result"
    }
   ],
   "source": [
    "model.coef_, model.intercept_"
   ]
  },
  {
   "cell_type": "markdown",
   "id": "5c470635",
   "metadata": {},
   "source": [
    "Split the given data into two parts. First part to train the model and second part to evaluate the model."
   ]
  },
  {
   "cell_type": "code",
   "execution_count": 242,
   "id": "2826418e",
   "metadata": {},
   "outputs": [],
   "source": [
    "from sklearn.model_selection import train_test_split"
   ]
  },
  {
   "cell_type": "code",
   "execution_count": 255,
   "id": "a78ab8cc",
   "metadata": {},
   "outputs": [],
   "source": [
    "inputs_train, inputs_test, targets_train, targets_test = train_test_split(inputs, targets, test_size=0.3)"
   ]
  },
  {
   "cell_type": "code",
   "execution_count": 256,
   "id": "a0879fd2",
   "metadata": {},
   "outputs": [
    {
     "name": "stdout",
     "output_type": "stream",
     "text": [
      "Test Loss: 3.07352335883105\n"
     ]
    }
   ],
   "source": [
    "# Create and train the model\n",
    "model = LinearRegression().fit(inputs_train, targets_train)\n",
    "\n",
    "# Generate predictions\n",
    "predictions_test = model.predict(inputs_test)\n",
    "\n",
    "# Compute loss to evalute the model\n",
    "loss = rmse(targets_test, predictions_test)\n",
    "print('Test Loss:', loss)"
   ]
  },
  {
   "cell_type": "code",
   "execution_count": 257,
   "id": "14dc9ae4",
   "metadata": {},
   "outputs": [
    {
     "name": "stdout",
     "output_type": "stream",
     "text": [
      "Training Loss: 4.476668206284311\n"
     ]
    }
   ],
   "source": [
    "# Generate predictions\n",
    "predictions_train = model.predict(inputs_train)\n",
    "\n",
    "# Compute loss to evalute the model\n",
    "loss = rmse(targets_train, predictions_train)\n",
    "print('Training Loss:', loss)"
   ]
  },
  {
   "cell_type": "code",
   "execution_count": null,
   "id": "993d153e",
   "metadata": {},
   "outputs": [],
   "source": []
  },
  {
   "cell_type": "code",
   "execution_count": null,
   "id": "a5635baa",
   "metadata": {},
   "outputs": [],
   "source": []
  },
  {
   "cell_type": "code",
   "execution_count": null,
   "id": "7d66894e",
   "metadata": {},
   "outputs": [],
   "source": []
  },
  {
   "cell_type": "code",
   "execution_count": null,
   "id": "c1f22d3a",
   "metadata": {},
   "outputs": [],
   "source": [
    "\n"
   ]
  },
  {
   "cell_type": "code",
   "execution_count": null,
   "id": "61e30e69",
   "metadata": {},
   "outputs": [],
   "source": []
  },
  {
   "cell_type": "code",
   "execution_count": null,
   "id": "b5ab420f",
   "metadata": {},
   "outputs": [],
   "source": []
  },
  {
   "cell_type": "code",
   "execution_count": null,
   "id": "058a4948",
   "metadata": {},
   "outputs": [],
   "source": []
  },
  {
   "cell_type": "code",
   "execution_count": null,
   "id": "d499aa4b",
   "metadata": {},
   "outputs": [],
   "source": []
  },
  {
   "cell_type": "markdown",
   "id": "236a162c",
   "metadata": {},
   "source": []
  }
 ],
 "metadata": {
  "kernelspec": {
   "display_name": "Python 3 (ipykernel)",
   "language": "python",
   "name": "python3"
  },
  "language_info": {
   "codemirror_mode": {
    "name": "ipython",
    "version": 3
   },
   "file_extension": ".py",
   "mimetype": "text/x-python",
   "name": "python",
   "nbconvert_exporter": "python",
   "pygments_lexer": "ipython3",
   "version": "3.9.12"
  }
 },
 "nbformat": 4,
 "nbformat_minor": 5
}
